{
 "cells": [
  {
   "cell_type": "code",
   "execution_count": 20,
   "metadata": {},
   "outputs": [],
   "source": [
    "import rdkit.Chem as Chem\n",
    "import pandas as pd\n",
    "import numpy as np"
   ]
  },
  {
   "cell_type": "code",
   "execution_count": 21,
   "metadata": {},
   "outputs": [
    {
     "data": {
      "text/plain": [
       "(60250, 2)"
      ]
     },
     "execution_count": 21,
     "metadata": {},
     "output_type": "execute_result"
    }
   ],
   "source": [
    "df=pd.read_csv(r'./flavone_clean_60K.csv')\n",
    "df.shape"
   ]
  },
  {
   "cell_type": "code",
   "execution_count": 22,
   "metadata": {},
   "outputs": [],
   "source": [
    "def RDkit_descriptors(smiles):\n",
    "    \"\"\"\n",
    "    Function will return all 208 RDKit descriptors\n",
    "    smiles is a pandas series or a list of smiles\n",
    "    \"\"\"\n",
    "    from rdkit.ML.Descriptors import MoleculeDescriptors\n",
    "    from rdkit.Chem import Descriptors\n",
    "    mols = [Chem.MolFromSmiles(i) for i in smiles] \n",
    "    calc = MoleculeDescriptors.MolecularDescriptorCalculator([x[0] for x in Descriptors._descList])\n",
    "    desc_names = calc.GetDescriptorNames()\n",
    "    \n",
    "    Mol_descriptors =[]\n",
    "    for mol in mols:\n",
    "        # add hydrogens to molecules\n",
    "        mol=Chem.AddHs(mol)\n",
    "        # Calculate all 208 descriptors for each molecule\n",
    "        descriptors = calc.CalcDescriptors(mol)\n",
    "        Mol_descriptors.append(descriptors)\n",
    "    return Mol_descriptors,desc_names "
   ]
  },
  {
   "cell_type": "code",
   "execution_count": 23,
   "metadata": {},
   "outputs": [
    {
     "data": {
      "text/plain": [
       "(60250, 208)"
      ]
     },
     "execution_count": 23,
     "metadata": {},
     "output_type": "execute_result"
    }
   ],
   "source": [
    "# call function\n",
    "Mol_descriptors,desc_names = RDkit_descriptors(smiles=df.SMILES)\n",
    "df_rdkit = pd.DataFrame(Mol_descriptors,columns=desc_names)\n",
    "df_rdkit.shape"
   ]
  },
  {
   "cell_type": "code",
   "execution_count": 24,
   "metadata": {},
   "outputs": [],
   "source": [
    "df_rdkit.insert(0,\"SMILES\",df.SMILES)"
   ]
  },
  {
   "cell_type": "code",
   "execution_count": 25,
   "metadata": {},
   "outputs": [
    {
     "data": {
      "text/html": [
       "<div>\n",
       "<style scoped>\n",
       "    .dataframe tbody tr th:only-of-type {\n",
       "        vertical-align: middle;\n",
       "    }\n",
       "\n",
       "    .dataframe tbody tr th {\n",
       "        vertical-align: top;\n",
       "    }\n",
       "\n",
       "    .dataframe thead th {\n",
       "        text-align: right;\n",
       "    }\n",
       "</style>\n",
       "<table border=\"1\" class=\"dataframe\">\n",
       "  <thead>\n",
       "    <tr style=\"text-align: right;\">\n",
       "      <th></th>\n",
       "      <th>SMILES</th>\n",
       "      <th>MaxEStateIndex</th>\n",
       "      <th>MinEStateIndex</th>\n",
       "      <th>MaxAbsEStateIndex</th>\n",
       "      <th>MinAbsEStateIndex</th>\n",
       "      <th>qed</th>\n",
       "      <th>MolWt</th>\n",
       "      <th>HeavyAtomMolWt</th>\n",
       "      <th>ExactMolWt</th>\n",
       "      <th>NumValenceElectrons</th>\n",
       "      <th>...</th>\n",
       "      <th>fr_sulfide</th>\n",
       "      <th>fr_sulfonamd</th>\n",
       "      <th>fr_sulfone</th>\n",
       "      <th>fr_term_acetylene</th>\n",
       "      <th>fr_tetrazole</th>\n",
       "      <th>fr_thiazole</th>\n",
       "      <th>fr_thiocyan</th>\n",
       "      <th>fr_thiophene</th>\n",
       "      <th>fr_unbrch_alkane</th>\n",
       "      <th>fr_urea</th>\n",
       "    </tr>\n",
       "  </thead>\n",
       "  <tbody>\n",
       "    <tr>\n",
       "      <th>0</th>\n",
       "      <td>CCCS(=O)(=O)c1cccc2c(=O)c(C(C)C)c(-c3ccccc3)oc12</td>\n",
       "      <td>14.240930</td>\n",
       "      <td>-6.332079</td>\n",
       "      <td>14.240930</td>\n",
       "      <td>1.077489</td>\n",
       "      <td>0.648982</td>\n",
       "      <td>370.470</td>\n",
       "      <td>348.294</td>\n",
       "      <td>370.123880</td>\n",
       "      <td>136</td>\n",
       "      <td>...</td>\n",
       "      <td>0</td>\n",
       "      <td>0</td>\n",
       "      <td>1</td>\n",
       "      <td>0</td>\n",
       "      <td>0</td>\n",
       "      <td>0</td>\n",
       "      <td>0</td>\n",
       "      <td>0</td>\n",
       "      <td>0</td>\n",
       "      <td>0</td>\n",
       "    </tr>\n",
       "    <tr>\n",
       "      <th>1</th>\n",
       "      <td>O=c1c(S(=O)(=O)[N+](=O)[O-])c(-c2ccccc2)oc2ccc...</td>\n",
       "      <td>13.024943</td>\n",
       "      <td>-5.772429</td>\n",
       "      <td>13.024943</td>\n",
       "      <td>0.881957</td>\n",
       "      <td>0.538577</td>\n",
       "      <td>331.305</td>\n",
       "      <td>322.233</td>\n",
       "      <td>331.015058</td>\n",
       "      <td>116</td>\n",
       "      <td>...</td>\n",
       "      <td>0</td>\n",
       "      <td>1</td>\n",
       "      <td>0</td>\n",
       "      <td>0</td>\n",
       "      <td>0</td>\n",
       "      <td>0</td>\n",
       "      <td>0</td>\n",
       "      <td>0</td>\n",
       "      <td>0</td>\n",
       "      <td>0</td>\n",
       "    </tr>\n",
       "    <tr>\n",
       "      <th>2</th>\n",
       "      <td>CC(=O)c1cccc2oc(-c3ccccc3C)cc(=O)c12</td>\n",
       "      <td>13.155520</td>\n",
       "      <td>-3.362113</td>\n",
       "      <td>13.155520</td>\n",
       "      <td>0.870761</td>\n",
       "      <td>0.666238</td>\n",
       "      <td>278.307</td>\n",
       "      <td>264.195</td>\n",
       "      <td>278.094294</td>\n",
       "      <td>104</td>\n",
       "      <td>...</td>\n",
       "      <td>0</td>\n",
       "      <td>0</td>\n",
       "      <td>0</td>\n",
       "      <td>0</td>\n",
       "      <td>0</td>\n",
       "      <td>0</td>\n",
       "      <td>0</td>\n",
       "      <td>0</td>\n",
       "      <td>0</td>\n",
       "      <td>0</td>\n",
       "    </tr>\n",
       "    <tr>\n",
       "      <th>3</th>\n",
       "      <td>CS(=O)(=O)c1c(-c2ccccc2C(=O)[N+](=O)[O-])oc2cc...</td>\n",
       "      <td>14.821051</td>\n",
       "      <td>-5.921292</td>\n",
       "      <td>14.821051</td>\n",
       "      <td>1.178626</td>\n",
       "      <td>0.495791</td>\n",
       "      <td>391.332</td>\n",
       "      <td>381.252</td>\n",
       "      <td>391.016201</td>\n",
       "      <td>138</td>\n",
       "      <td>...</td>\n",
       "      <td>0</td>\n",
       "      <td>0</td>\n",
       "      <td>1</td>\n",
       "      <td>0</td>\n",
       "      <td>0</td>\n",
       "      <td>0</td>\n",
       "      <td>0</td>\n",
       "      <td>0</td>\n",
       "      <td>0</td>\n",
       "      <td>0</td>\n",
       "    </tr>\n",
       "    <tr>\n",
       "      <th>4</th>\n",
       "      <td>CS(=O)(=O)c1cccc2oc(-c3ccccc3)cc(=O)c12</td>\n",
       "      <td>13.015239</td>\n",
       "      <td>-5.418128</td>\n",
       "      <td>13.015239</td>\n",
       "      <td>0.730454</td>\n",
       "      <td>0.729718</td>\n",
       "      <td>300.335</td>\n",
       "      <td>288.239</td>\n",
       "      <td>300.045630</td>\n",
       "      <td>106</td>\n",
       "      <td>...</td>\n",
       "      <td>0</td>\n",
       "      <td>0</td>\n",
       "      <td>1</td>\n",
       "      <td>0</td>\n",
       "      <td>0</td>\n",
       "      <td>0</td>\n",
       "      <td>0</td>\n",
       "      <td>0</td>\n",
       "      <td>0</td>\n",
       "      <td>0</td>\n",
       "    </tr>\n",
       "  </tbody>\n",
       "</table>\n",
       "<p>5 rows × 209 columns</p>\n",
       "</div>"
      ],
      "text/plain": [
       "                                              SMILES  MaxEStateIndex  \\\n",
       "0   CCCS(=O)(=O)c1cccc2c(=O)c(C(C)C)c(-c3ccccc3)oc12       14.240930   \n",
       "1  O=c1c(S(=O)(=O)[N+](=O)[O-])c(-c2ccccc2)oc2ccc...       13.024943   \n",
       "2               CC(=O)c1cccc2oc(-c3ccccc3C)cc(=O)c12       13.155520   \n",
       "3  CS(=O)(=O)c1c(-c2ccccc2C(=O)[N+](=O)[O-])oc2cc...       14.821051   \n",
       "4            CS(=O)(=O)c1cccc2oc(-c3ccccc3)cc(=O)c12       13.015239   \n",
       "\n",
       "   MinEStateIndex  MaxAbsEStateIndex  MinAbsEStateIndex       qed    MolWt  \\\n",
       "0       -6.332079          14.240930           1.077489  0.648982  370.470   \n",
       "1       -5.772429          13.024943           0.881957  0.538577  331.305   \n",
       "2       -3.362113          13.155520           0.870761  0.666238  278.307   \n",
       "3       -5.921292          14.821051           1.178626  0.495791  391.332   \n",
       "4       -5.418128          13.015239           0.730454  0.729718  300.335   \n",
       "\n",
       "   HeavyAtomMolWt  ExactMolWt  NumValenceElectrons  ...  fr_sulfide  \\\n",
       "0         348.294  370.123880                  136  ...           0   \n",
       "1         322.233  331.015058                  116  ...           0   \n",
       "2         264.195  278.094294                  104  ...           0   \n",
       "3         381.252  391.016201                  138  ...           0   \n",
       "4         288.239  300.045630                  106  ...           0   \n",
       "\n",
       "   fr_sulfonamd  fr_sulfone  fr_term_acetylene  fr_tetrazole  fr_thiazole  \\\n",
       "0             0           1                  0             0            0   \n",
       "1             1           0                  0             0            0   \n",
       "2             0           0                  0             0            0   \n",
       "3             0           1                  0             0            0   \n",
       "4             0           1                  0             0            0   \n",
       "\n",
       "   fr_thiocyan  fr_thiophene  fr_unbrch_alkane  fr_urea  \n",
       "0            0             0                 0        0  \n",
       "1            0             0                 0        0  \n",
       "2            0             0                 0        0  \n",
       "3            0             0                 0        0  \n",
       "4            0             0                 0        0  \n",
       "\n",
       "[5 rows x 209 columns]"
      ]
     },
     "execution_count": 25,
     "metadata": {},
     "output_type": "execute_result"
    }
   ],
   "source": [
    "df_rdkit.head()"
   ]
  },
  {
   "cell_type": "code",
   "execution_count": 26,
   "metadata": {},
   "outputs": [],
   "source": [
    "df_rdkit.to_csv('flavone_clean_60K_smi_208f.csv',index=False)"
   ]
  },
  {
   "cell_type": "code",
   "execution_count": null,
   "metadata": {},
   "outputs": [],
   "source": []
  }
 ],
 "metadata": {
  "kernelspec": {
   "display_name": "Python 3.7.12 ('myenv')",
   "language": "python",
   "name": "python3"
  },
  "language_info": {
   "codemirror_mode": {
    "name": "ipython",
    "version": 3
   },
   "file_extension": ".py",
   "mimetype": "text/x-python",
   "name": "python",
   "nbconvert_exporter": "python",
   "pygments_lexer": "ipython3",
   "version": "3.7.12"
  },
  "orig_nbformat": 4,
  "vscode": {
   "interpreter": {
    "hash": "00a5131b94e1651b60ec524aa15e233bc471fcc5f68e93d7def1029cb997c5c0"
   }
  }
 },
 "nbformat": 4,
 "nbformat_minor": 2
}
